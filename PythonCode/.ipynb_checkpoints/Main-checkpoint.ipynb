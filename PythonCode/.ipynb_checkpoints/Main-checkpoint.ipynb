{
 "cells": [
  {
   "cell_type": "code",
   "execution_count": 1,
   "metadata": {},
   "outputs": [],
   "source": [
    "from typing import Any\n",
    "\n",
    "import cv2\n",
    "import numpy as np\n",
    "import func\n",
    "import math\n",
    "import imutils"
   ]
  },
  {
   "cell_type": "code",
   "execution_count": 2,
   "metadata": {},
   "outputs": [],
   "source": [
    "def mouse_click(event, x, y, flags, param):\n",
    "    #define the points array\n",
    "    # to check if left mouse\n",
    "    # button was clicked\n",
    "    if event == cv2.EVENT_LBUTTONDOWN:\n",
    "        #draw a circle\n",
    "        cv2.circle(finalImg, (x,y),1,(0,0,255),2)\n",
    "        #save the coordinates in points of array\n",
    "        points.append((x,y))\n",
    "        #connect with line\n",
    "        if len(points) == 2:\n",
    "            #imgR need to replaced as ims\n",
    "            cv2.line(imgR,points[0],points[1],(0,0,255),2)\n",
    "            cv2.line(imgR,points[3],points[4],(0,0,255),2)\n",
    "        # font for left click event\n",
    "        font = cv2.FONT_HERSHEY_SIMPLEX\n",
    "        strXY =str(x) + ',' + str(y)\n",
    "        #All the imgR replace as ims\n",
    "        cv2.putText(imgR, strXY, (x, y),font, 1, (255, 255, 0),2)\n",
    "        cv2.imshow('finalImg', imgR)\n",
    "        [x1, y1] = points[0]\n",
    "        [x2, y2] = points[1]\n",
    "        [x3, y3] = points[3]\n",
    "        [x4, y4] = points[4]\n",
    "        lengthArc1 = math.sqrt((math.pow((x1 - x2),2) + math.pow((y1 - y2),2)))\n",
    "        print('Pixel ratio: {}'.format(pixelRatio))\n",
    "        print('Saddle_Height: {}'.format(lengthArc1*pixelRatio))\n",
    "        lengthArc2 = math.sqrt((math.pow((x3 - x4), 2) + math.pow((y3 - y4), 2)))\n",
    "        print('Pixel ratio: {}'.format(pixelRatio))\n",
    "        print('Reach: {}'.format(lengthArc2 * pixelRatio))"
   ]
  },
  {
   "cell_type": "code",
   "execution_count": null,
   "metadata": {},
   "outputs": [
    {
     "name": "stdout",
     "output_type": "stream",
     "text": [
      "Image Size 1344x813\n",
      "length : 58.309518948453004\n",
      "Pixel_ratio:  0.8574929257125442\n"
     ]
    }
   ],
   "source": [
    "# Init\n",
    "imagePath = 'ss.jpg'\n",
    "imgR = cv2.imread(imagePath)\n",
    "\n",
    "# Create window with freedom of dimensions\n",
    "cv2.namedWindow(\"finalImg\",cv2.WINDOW_NORMAL)\n",
    "\n",
    "# fetching the dimensions\n",
    "wid = imgR.shape[1]\n",
    "hgt = imgR.shape[0]\n",
    "print(\"Image Size {}x{}\".format(wid,hgt))\n",
    "\n",
    "# Use camera resolution\n",
    "ims=cv2.resize(imgR ,(hgt,wid))\n",
    "\n",
    "# Check conditions\n",
    "mask = func.tag_detection(imgR)\n",
    "maskImg = cv2.imshow('mask',mask)\n",
    "\n",
    "#ref image for calibration\n",
    "img , corners ,length, pixelRatio =func.cameraCalibration(imgR)\n",
    "\n",
    "#applying the mouse event\n",
    "finalImg = cv2.imshow('finalImg',ims)\n",
    "\n",
    "points = []\n",
    "\n",
    "cv2.setMouseCallback('finalImg', mouse_click)\n",
    "\n",
    "cv2.waitKey(0)\n",
    "cv2.destroyAllWindows() "
   ]
  },
  {
   "cell_type": "code",
   "execution_count": null,
   "metadata": {},
   "outputs": [],
   "source": []
  }
 ],
 "metadata": {
  "kernelspec": {
   "display_name": "Python 3",
   "language": "python",
   "name": "python3"
  },
  "language_info": {
   "codemirror_mode": {
    "name": "ipython",
    "version": 3
   },
   "file_extension": ".py",
   "mimetype": "text/x-python",
   "name": "python",
   "nbconvert_exporter": "python",
   "pygments_lexer": "ipython3",
   "version": "3.6.8"
  }
 },
 "nbformat": 4,
 "nbformat_minor": 2
}
