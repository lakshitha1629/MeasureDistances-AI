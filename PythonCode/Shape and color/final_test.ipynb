{
 "cells": [
  {
   "cell_type": "code",
   "execution_count": 10,
   "metadata": {},
   "outputs": [],
   "source": [
    "import cv2\n",
    "import numpy as np\n",
    "import imutils"
   ]
  },
  {
   "cell_type": "code",
   "execution_count": 45,
   "metadata": {},
   "outputs": [],
   "source": [
    "def tag_detection(img):\n",
    "    \n",
    "    # Convert from BGR to HSV color space\n",
    "    hsv = cv2.cvtColor(img, cv2.COLOR_BGR2HSV)\n",
    "\n",
    "    # Get the saturation plane - all black/white/gray pixels are zero, and colored pixels are above zero.\n",
    "    s = hsv[:, :, 1]\n",
    "\n",
    "    # detect yellow\n",
    "    lower_range = np.array([25, 50, 70])\n",
    "    upper_range = np.array([35, 255, 255])\n",
    "    mask = cv2.inRange(hsv, lower_range, upper_range)\n",
    "\n",
    "    # Apply threshold on s - use automatic threshold algorithm (use THRESH_OTSU).\n",
    "    ret, thresh = cv2.threshold(mask, 0, 255, cv2.THRESH_BINARY+cv2.THRESH_OTSU)\n",
    "\n",
    "    # Find contours in thresh (find the triangles).\n",
    "    cnts = cv2.findContours(thresh, cv2.RETR_EXTERNAL, cv2.CHAIN_APPROX_NONE)[-2]  # [-2] indexing takes return value before last (due to OpenCV compatibility issues).\n",
    "    font = cv2.FONT_HERSHEY_COMPLEX\n",
    "    \n",
    "    areaList = []\n",
    "    outputList = []\n",
    "            \n",
    "    # Iterate triangle contours\n",
    "    for c in cnts:\n",
    "        approx = cv2.approxPolyDP(c, 0.05*cv2.arcLength(c, True), True)\n",
    "    #     cv2.drawContours(img, [approx], 0, (0), 5)\n",
    "        x = approx.ravel()[0]\n",
    "        y = approx.ravel()[1]\n",
    "\n",
    "        if (len(approx) == 4):  #  Ignore very small contours\n",
    "            # Mark rectangle with green line\n",
    "            cv2.drawContours(img, [approx], 0, (0, 255, 0), 1)\n",
    "            # Get bounding rectangle\n",
    "            x, y, w, h = cv2.boundingRect(approx)\n",
    "            ar = float(w)/h\n",
    "            if (not(ar >= 0.95 and ar <= 1.05)) and ar>3:\n",
    "                areaList.append(cv2.contourArea(approx))\n",
    "                print(\"crop\")\n",
    "                # Crop the bounding rectangle out of img\n",
    "                out = img[y-20:y+h+20, x-20:x+w+20].copy()\n",
    "                outputList.append(out)\n",
    "                \n",
    "    max_value = max(areaList)\n",
    "    max_index = areaList.index(max_value)\n",
    "    print(max_index)\n",
    "    \n",
    "    return outputList[max_index]\n",
    "        "
   ]
  },
  {
   "cell_type": "code",
   "execution_count": 46,
   "metadata": {},
   "outputs": [
    {
     "name": "stdout",
     "output_type": "stream",
     "text": [
      "crop\n",
      "0\n"
     ]
    }
   ],
   "source": [
    "img = cv2.imread('w.jpg')\n",
    "imgNew = tag_detection(img)\n",
    "cv2.imshow(\"Crop\", imgNew)\n",
    "cv2.waitKey(0)\n",
    "cv2.destroyAllWindows()"
   ]
  },
  {
   "cell_type": "code",
   "execution_count": null,
   "metadata": {},
   "outputs": [],
   "source": []
  },
  {
   "cell_type": "code",
   "execution_count": null,
   "metadata": {},
   "outputs": [],
   "source": []
  }
 ],
 "metadata": {
  "kernelspec": {
   "display_name": "Python 3",
   "language": "python",
   "name": "python3"
  },
  "language_info": {
   "codemirror_mode": {
    "name": "ipython",
    "version": 3
   },
   "file_extension": ".py",
   "mimetype": "text/x-python",
   "name": "python",
   "nbconvert_exporter": "python",
   "pygments_lexer": "ipython3",
   "version": "3.6.8"
  }
 },
 "nbformat": 4,
 "nbformat_minor": 2
}
