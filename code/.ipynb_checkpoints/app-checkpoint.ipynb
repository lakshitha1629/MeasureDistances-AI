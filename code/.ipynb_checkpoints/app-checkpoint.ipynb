{
 "cells": [
  {
   "cell_type": "code",
   "execution_count": 1,
   "metadata": {},
   "outputs": [],
   "source": [
    "from typing import Any\n",
    "\n",
    "import cv2\n",
    "import numpy as np\n",
    "import math"
   ]
  },
  {
   "cell_type": "code",
   "execution_count": null,
   "metadata": {},
   "outputs": [],
   "source": [
    "# Init\n",
    "imagePath = 'sample.jpg'\n",
    "imgRN = cv2.imread('ss.jpg')"
   ]
  },
  {
   "cell_type": "code",
   "execution_count": null,
   "metadata": {},
   "outputs": [],
   "source": [
    "# Resize image\n",
    "\n",
    "# Create window with freedom of dimensions\n",
    "cv2.namedWindow(\"finalImg\",cv2.WINDOW_NORMAL)\n",
    "\n",
    "# fetching the dimensions\n",
    "wid = imgRN.shape[1]\n",
    "hgt = imgRN.shape[0]\n",
    "\n",
    "# Use camera resolution\n",
    "ims=cv2.resize(imgRN ,(hgt,wid))\n",
    "cv2.imshow(\"finalImg\" , ims)"
   ]
  },
  {
   "cell_type": "code",
   "execution_count": 2,
   "metadata": {},
   "outputs": [],
   "source": [
    "# this imS need to\n",
    "def findColor(imgRN):\n",
    "    hsv = cv2.cvtColor(imgRN, cv2.COLOR_BGR2HSV)\n",
    "\n",
    "    lower_range = np.array([25, 50, 70])\n",
    "    upper_range = np.array([35, 255, 255])\n",
    "\n",
    "    mask = cv2.inRange(hsv, lower_range, upper_range)\n",
    "\n",
    "    #cv2.imshow('image', img)\n",
    "    cv2.imshow('mask', mask)\n",
    "\n",
    "    return mask"
   ]
  },
  {
   "cell_type": "code",
   "execution_count": 3,
   "metadata": {},
   "outputs": [
    {
     "name": "stdout",
     "output_type": "stream",
     "text": [
      "<class 'str'>\n",
      "sample.jpg\n",
      "<class 'str'>\n"
     ]
    },
    {
     "ename": "error",
     "evalue": "OpenCV(4.1.0) C:\\projects\\opencv-python\\opencv\\modules\\imgproc\\src\\resize.cpp:3718: error: (-215:Assertion failed) !ssize.empty() in function 'cv::resize'\n",
     "output_type": "error",
     "traceback": [
      "\u001b[1;31m---------------------------------------------------------------------------\u001b[0m",
      "\u001b[1;31merror\u001b[0m                                     Traceback (most recent call last)",
      "\u001b[1;32m<ipython-input-3-84b07b81f96f>\u001b[0m in \u001b[0;36m<module>\u001b[1;34m\u001b[0m\n\u001b[0;32m     13\u001b[0m \u001b[0mimg\u001b[0m \u001b[1;33m=\u001b[0m \u001b[0mcv2\u001b[0m\u001b[1;33m.\u001b[0m\u001b[0mimread\u001b[0m\u001b[1;33m(\u001b[0m\u001b[0mrefPath\u001b[0m\u001b[1;33m)\u001b[0m\u001b[1;33m\u001b[0m\u001b[1;33m\u001b[0m\u001b[0m\n\u001b[0;32m     14\u001b[0m \u001b[1;31m# Use camera resolution\u001b[0m\u001b[1;33m\u001b[0m\u001b[1;33m\u001b[0m\u001b[1;33m\u001b[0m\u001b[0m\n\u001b[1;32m---> 15\u001b[1;33m \u001b[0mims\u001b[0m\u001b[1;33m=\u001b[0m\u001b[0mcv2\u001b[0m\u001b[1;33m.\u001b[0m\u001b[0mresize\u001b[0m\u001b[1;33m(\u001b[0m\u001b[0mimgR\u001b[0m \u001b[1;33m,\u001b[0m\u001b[1;33m(\u001b[0m\u001b[1;36m3264\u001b[0m\u001b[1;33m,\u001b[0m\u001b[1;36m2448\u001b[0m\u001b[1;33m)\u001b[0m\u001b[1;33m)\u001b[0m\u001b[1;33m\u001b[0m\u001b[1;33m\u001b[0m\u001b[0m\n\u001b[0m\u001b[0;32m     16\u001b[0m \u001b[0mcv2\u001b[0m\u001b[1;33m.\u001b[0m\u001b[0mimshow\u001b[0m\u001b[1;33m(\u001b[0m\u001b[1;34m\"finalImg\"\u001b[0m \u001b[1;33m,\u001b[0m \u001b[0mims\u001b[0m\u001b[1;33m)\u001b[0m\u001b[1;33m\u001b[0m\u001b[1;33m\u001b[0m\u001b[0m\n\u001b[0;32m     17\u001b[0m \u001b[1;33m\u001b[0m\u001b[0m\n",
      "\u001b[1;31merror\u001b[0m: OpenCV(4.1.0) C:\\projects\\opencv-python\\opencv\\modules\\imgproc\\src\\resize.cpp:3718: error: (-215:Assertion failed) !ssize.empty() in function 'cv::resize'\n"
     ]
    }
   ],
   "source": [
    "# Check candition\n",
    "mask = findColor(imgRN)\n",
    "imgS = func.find_shapes(imgRN)\n",
    "\n",
    "#ref image for calibration\n",
    "img , corners ,length, pixelRatio =func.cameraCalibration(img)\n",
    "\n",
    "#applying the mouse event\n",
    "finalImg = cv2.imshow('finalImg',ims)\n",
    "\n",
    "def mouse_click(event, x, y, flags, param):\n",
    "    #define the points array\n",
    "    # to check if left mouse\n",
    "    # button was clicked\n",
    "    if event == cv2.EVENT_LBUTTONDOWN:\n",
    "        #draw a circle\n",
    "        cv2.circle(finalImg, (x,y),1,(0,0,255),2)\n",
    "        #save the coordinates in points of array\n",
    "        points.append((x,y))\n",
    "        #connect with line\n",
    "        if len(points) == 4:\n",
    "          #imgR need to replaced as ims\n",
    "          cv2.line(imgR,points[0],points[1],(0,0,255),2)\n",
    "#           cv2.line(imgR,points[2],points[3],(0,0,255),2)\n",
    "         #font for left click event\n",
    "        print(x, ',',y)\n",
    "        font = cv2.FONT_HERSHEY_SIMPLEX\n",
    "        strXY =str(x) + ',' + str(y)\n",
    "        #All the imgR replace as ims\n",
    "        cv2.putText(imgR, strXY, (x, y),font, 1, (255, 255, 0),2)\n",
    "        cv2.imshow('finalImg', imgR)\n",
    "        [x1, y1] = points[0]\n",
    "        [x2, y2] = points[1]\n",
    "        [x3, y3] = points[2]\n",
    "        [x4, y4] = points[3]\n",
    "        print(points[0])\n",
    "        print(points[1])\n",
    "        print(points[2])\n",
    "        print(points[3])\n",
    "        print('x1 :', x1, ',', 'y1 :', y1)\n",
    "        print('x2 :', x2, ',', 'y2 :', y2)\n",
    "        print('x3 :', x3, ',', 'y3 :', y3)\n",
    "        print('x4 :', x4, ',', 'y4 :', y4)\n",
    "        lengthArc1 = math.sqrt((math.pow((x1 - x2),2) + math.pow((y1 - y2),2)))\n",
    "        print('Pixel ratio:',pixelRatio )\n",
    "        print('Saddle_Height:',(lengthArc1*pixelRatio))\n",
    "        lengthArc2 = math.sqrt((math.pow((x3 - x4), 2) + math.pow((y3 - y4), 2)))\n",
    "        print('Pixel ratio:', pixelRatio)\n",
    "        print('Reach:', (lengthArc2 * pixelRatio))\n",
    "\n",
    "\n",
    "       #print(type(lengthArc.item()))\n",
    "\n",
    "points = []\n",
    "\n",
    "cv2.setMouseCallback('finalImg', mouse_click)\n",
    "\n",
    "\n",
    "\n",
    "\n",
    "cv2.waitKey(0)\n",
    "cv2.destroyAllWindows() \n",
    "\n"
   ]
  },
  {
   "cell_type": "code",
   "execution_count": null,
   "metadata": {},
   "outputs": [],
   "source": []
  }
 ],
 "metadata": {
  "kernelspec": {
   "display_name": "Python 3",
   "language": "python",
   "name": "python3"
  },
  "language_info": {
   "codemirror_mode": {
    "name": "ipython",
    "version": 3
   },
   "file_extension": ".py",
   "mimetype": "text/x-python",
   "name": "python",
   "nbconvert_exporter": "python",
   "pygments_lexer": "ipython3",
   "version": "3.6.8"
  }
 },
 "nbformat": 4,
 "nbformat_minor": 2
}
