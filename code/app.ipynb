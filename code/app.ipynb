{
 "cells": [
  {
   "cell_type": "code",
   "execution_count": 3,
   "metadata": {},
   "outputs": [],
   "source": [
    "from typing import Any\n",
    "\n",
    "import cv2\n",
    "import numpy as np\n",
    "import func\n",
    "import math"
   ]
  },
  {
   "cell_type": "code",
   "execution_count": 5,
   "metadata": {},
   "outputs": [
    {
     "name": "stdout",
     "output_type": "stream",
     "text": [
      "<class 'str'>\n",
      "sample.jpg\n",
      "<class 'str'>\n",
      "[[170 244]]\n",
      "[[197 242]]\n",
      "[[188 101]]\n",
      "[[161 105]]\n",
      "x2 : 197 , y2 : 242\n",
      "x3 : 188 , y3: 101\n",
      "<class 'numpy.float64'>\n",
      "<class 'float'>\n",
      "length : 141.28694207179942\n",
      "<class 'numpy.float64'>\n",
      "<class 'float'>\n",
      "Pixel_ratio:  0.3538897456963215\n",
      "834 , 826\n"
     ]
    },
    {
     "ename": "IndexError",
     "evalue": "list index out of range",
     "output_type": "error",
     "traceback": [
      "\u001b[1;31m---------------------------------------------------------------------------\u001b[0m",
      "\u001b[1;31mIndexError\u001b[0m                                Traceback (most recent call last)",
      "\u001b[1;32m<ipython-input-5-c58f57de699f>\u001b[0m in \u001b[0;36mmouse_click\u001b[1;34m(event, x, y, flags, param)\u001b[0m\n\u001b[0;32m     48\u001b[0m         \u001b[0mcv2\u001b[0m\u001b[1;33m.\u001b[0m\u001b[0mimshow\u001b[0m\u001b[1;33m(\u001b[0m\u001b[1;34m'finalImg'\u001b[0m\u001b[1;33m,\u001b[0m \u001b[0mimgR\u001b[0m\u001b[1;33m)\u001b[0m\u001b[1;33m\u001b[0m\u001b[1;33m\u001b[0m\u001b[0m\n\u001b[0;32m     49\u001b[0m         \u001b[1;33m[\u001b[0m\u001b[0mx1\u001b[0m\u001b[1;33m,\u001b[0m \u001b[0my1\u001b[0m\u001b[1;33m]\u001b[0m \u001b[1;33m=\u001b[0m \u001b[0mpoints\u001b[0m\u001b[1;33m[\u001b[0m\u001b[1;36m0\u001b[0m\u001b[1;33m]\u001b[0m\u001b[1;33m\u001b[0m\u001b[1;33m\u001b[0m\u001b[0m\n\u001b[1;32m---> 50\u001b[1;33m         \u001b[1;33m[\u001b[0m\u001b[0mx2\u001b[0m\u001b[1;33m,\u001b[0m \u001b[0my2\u001b[0m\u001b[1;33m]\u001b[0m \u001b[1;33m=\u001b[0m \u001b[0mpoints\u001b[0m\u001b[1;33m[\u001b[0m\u001b[1;36m1\u001b[0m\u001b[1;33m]\u001b[0m\u001b[1;33m\u001b[0m\u001b[1;33m\u001b[0m\u001b[0m\n\u001b[0m\u001b[0;32m     51\u001b[0m         \u001b[1;33m[\u001b[0m\u001b[0mx3\u001b[0m\u001b[1;33m,\u001b[0m \u001b[0my3\u001b[0m\u001b[1;33m]\u001b[0m \u001b[1;33m=\u001b[0m \u001b[0mpoints\u001b[0m\u001b[1;33m[\u001b[0m\u001b[1;36m2\u001b[0m\u001b[1;33m]\u001b[0m\u001b[1;33m\u001b[0m\u001b[1;33m\u001b[0m\u001b[0m\n\u001b[0;32m     52\u001b[0m         \u001b[1;33m[\u001b[0m\u001b[0mx4\u001b[0m\u001b[1;33m,\u001b[0m \u001b[0my4\u001b[0m\u001b[1;33m]\u001b[0m \u001b[1;33m=\u001b[0m \u001b[0mpoints\u001b[0m\u001b[1;33m[\u001b[0m\u001b[1;36m3\u001b[0m\u001b[1;33m]\u001b[0m\u001b[1;33m\u001b[0m\u001b[1;33m\u001b[0m\u001b[0m\n",
      "\u001b[1;31mIndexError\u001b[0m: list index out of range"
     ]
    },
    {
     "name": "stdout",
     "output_type": "stream",
     "text": [
      "2359 , 702\n"
     ]
    },
    {
     "ename": "IndexError",
     "evalue": "list index out of range",
     "output_type": "error",
     "traceback": [
      "\u001b[1;31m---------------------------------------------------------------------------\u001b[0m",
      "\u001b[1;31mIndexError\u001b[0m                                Traceback (most recent call last)",
      "\u001b[1;32m<ipython-input-5-c58f57de699f>\u001b[0m in \u001b[0;36mmouse_click\u001b[1;34m(event, x, y, flags, param)\u001b[0m\n\u001b[0;32m     49\u001b[0m         \u001b[1;33m[\u001b[0m\u001b[0mx1\u001b[0m\u001b[1;33m,\u001b[0m \u001b[0my1\u001b[0m\u001b[1;33m]\u001b[0m \u001b[1;33m=\u001b[0m \u001b[0mpoints\u001b[0m\u001b[1;33m[\u001b[0m\u001b[1;36m0\u001b[0m\u001b[1;33m]\u001b[0m\u001b[1;33m\u001b[0m\u001b[1;33m\u001b[0m\u001b[0m\n\u001b[0;32m     50\u001b[0m         \u001b[1;33m[\u001b[0m\u001b[0mx2\u001b[0m\u001b[1;33m,\u001b[0m \u001b[0my2\u001b[0m\u001b[1;33m]\u001b[0m \u001b[1;33m=\u001b[0m \u001b[0mpoints\u001b[0m\u001b[1;33m[\u001b[0m\u001b[1;36m1\u001b[0m\u001b[1;33m]\u001b[0m\u001b[1;33m\u001b[0m\u001b[1;33m\u001b[0m\u001b[0m\n\u001b[1;32m---> 51\u001b[1;33m         \u001b[1;33m[\u001b[0m\u001b[0mx3\u001b[0m\u001b[1;33m,\u001b[0m \u001b[0my3\u001b[0m\u001b[1;33m]\u001b[0m \u001b[1;33m=\u001b[0m \u001b[0mpoints\u001b[0m\u001b[1;33m[\u001b[0m\u001b[1;36m2\u001b[0m\u001b[1;33m]\u001b[0m\u001b[1;33m\u001b[0m\u001b[1;33m\u001b[0m\u001b[0m\n\u001b[0m\u001b[0;32m     52\u001b[0m         \u001b[1;33m[\u001b[0m\u001b[0mx4\u001b[0m\u001b[1;33m,\u001b[0m \u001b[0my4\u001b[0m\u001b[1;33m]\u001b[0m \u001b[1;33m=\u001b[0m \u001b[0mpoints\u001b[0m\u001b[1;33m[\u001b[0m\u001b[1;36m3\u001b[0m\u001b[1;33m]\u001b[0m\u001b[1;33m\u001b[0m\u001b[1;33m\u001b[0m\u001b[0m\n\u001b[0;32m     53\u001b[0m         \u001b[0mprint\u001b[0m\u001b[1;33m(\u001b[0m\u001b[0mpoints\u001b[0m\u001b[1;33m[\u001b[0m\u001b[1;36m0\u001b[0m\u001b[1;33m]\u001b[0m\u001b[1;33m)\u001b[0m\u001b[1;33m\u001b[0m\u001b[1;33m\u001b[0m\u001b[0m\n",
      "\u001b[1;31mIndexError\u001b[0m: list index out of range"
     ]
    },
    {
     "name": "stdout",
     "output_type": "stream",
     "text": [
      "1210 , 1924\n"
     ]
    },
    {
     "ename": "IndexError",
     "evalue": "list index out of range",
     "output_type": "error",
     "traceback": [
      "\u001b[1;31m---------------------------------------------------------------------------\u001b[0m",
      "\u001b[1;31mIndexError\u001b[0m                                Traceback (most recent call last)",
      "\u001b[1;32m<ipython-input-5-c58f57de699f>\u001b[0m in \u001b[0;36mmouse_click\u001b[1;34m(event, x, y, flags, param)\u001b[0m\n\u001b[0;32m     50\u001b[0m         \u001b[1;33m[\u001b[0m\u001b[0mx2\u001b[0m\u001b[1;33m,\u001b[0m \u001b[0my2\u001b[0m\u001b[1;33m]\u001b[0m \u001b[1;33m=\u001b[0m \u001b[0mpoints\u001b[0m\u001b[1;33m[\u001b[0m\u001b[1;36m1\u001b[0m\u001b[1;33m]\u001b[0m\u001b[1;33m\u001b[0m\u001b[1;33m\u001b[0m\u001b[0m\n\u001b[0;32m     51\u001b[0m         \u001b[1;33m[\u001b[0m\u001b[0mx3\u001b[0m\u001b[1;33m,\u001b[0m \u001b[0my3\u001b[0m\u001b[1;33m]\u001b[0m \u001b[1;33m=\u001b[0m \u001b[0mpoints\u001b[0m\u001b[1;33m[\u001b[0m\u001b[1;36m2\u001b[0m\u001b[1;33m]\u001b[0m\u001b[1;33m\u001b[0m\u001b[1;33m\u001b[0m\u001b[0m\n\u001b[1;32m---> 52\u001b[1;33m         \u001b[1;33m[\u001b[0m\u001b[0mx4\u001b[0m\u001b[1;33m,\u001b[0m \u001b[0my4\u001b[0m\u001b[1;33m]\u001b[0m \u001b[1;33m=\u001b[0m \u001b[0mpoints\u001b[0m\u001b[1;33m[\u001b[0m\u001b[1;36m3\u001b[0m\u001b[1;33m]\u001b[0m\u001b[1;33m\u001b[0m\u001b[1;33m\u001b[0m\u001b[0m\n\u001b[0m\u001b[0;32m     53\u001b[0m         \u001b[0mprint\u001b[0m\u001b[1;33m(\u001b[0m\u001b[0mpoints\u001b[0m\u001b[1;33m[\u001b[0m\u001b[1;36m0\u001b[0m\u001b[1;33m]\u001b[0m\u001b[1;33m)\u001b[0m\u001b[1;33m\u001b[0m\u001b[1;33m\u001b[0m\u001b[0m\n\u001b[0;32m     54\u001b[0m         \u001b[0mprint\u001b[0m\u001b[1;33m(\u001b[0m\u001b[0mpoints\u001b[0m\u001b[1;33m[\u001b[0m\u001b[1;36m1\u001b[0m\u001b[1;33m]\u001b[0m\u001b[1;33m)\u001b[0m\u001b[1;33m\u001b[0m\u001b[1;33m\u001b[0m\u001b[0m\n",
      "\u001b[1;31mIndexError\u001b[0m: list index out of range"
     ]
    },
    {
     "name": "stdout",
     "output_type": "stream",
     "text": [
      "889 , 826\n",
      "(834, 826)\n",
      "(2359, 702)\n",
      "(1210, 1924)\n",
      "(889, 826)\n",
      "x1 : 834 , y1 : 826\n",
      "x2 : 2359 , y2 : 702\n",
      "x3 : 1210 , y3 : 1924\n",
      "x4 : 889 , y4 : 826\n",
      "Pixel ratio: 0.3538897456963215\n",
      "Saddle_Height: 541.4629914639944\n",
      "Pixel ratio: 0.3538897456963215\n",
      "Reach: 404.835793671572\n"
     ]
    }
   ],
   "source": [
    "refPath = 'refImage.jpg'\n",
    "imagePath2 = 'sample.jpg'\n",
    "print(type(imagePath2))\n",
    "# <class 'numpy.ndarray'>\n",
    "\n",
    "print(imagePath2)\n",
    "print(type(imagePath2))\n",
    "\n",
    "\n",
    "# Create window with freedom of dimensions\n",
    "cv2.namedWindow(\"finalImg\",cv2.WINDOW_NORMAL)\n",
    "imgR = cv2.imread(imagePath2)\n",
    "img = cv2.imread(refPath)\n",
    "# Use camera resolution\n",
    "ims=cv2.resize(imgR ,(3264,2448))\n",
    "cv2.imshow(\"finalImg\" , ims)\n",
    "\n",
    "\n",
    "\n",
    "#ref image for calibration\n",
    "img , corners ,length, pixelRatio =func.cameraCalibration(img)\n",
    "\n",
    "#applying the mouse event\n",
    "#imgR = cv2.resize(imgR,(0,0),None,0.6,0.6)\n",
    "# imgR NEED TO REPLACE AS ims\n",
    "finalImg = cv2.imshow('finalImg',imgR)\n",
    "\n",
    "def mouse_click(event, x, y, flags, param):\n",
    "    #define the points array\n",
    "    # to check if left mouse\n",
    "    # button was clicked\n",
    "    if event == cv2.EVENT_LBUTTONDOWN:\n",
    "        #draw a circle\n",
    "        cv2.circle(finalImg, (x,y),1,(0,0,255),2)\n",
    "        #save the coordinates in points of array\n",
    "        points.append((x,y))\n",
    "        #connect with line\n",
    "        if len(points) == 4:\n",
    "          #imgR need to replaced as ims\n",
    "          cv2.line(imgR,points[0],points[1],(0,0,255),2)\n",
    "          cv2.line(imgR,points[2],points[3],(0,0,255),2)\n",
    "         #font for left click event\n",
    "        print(x, ',',y)\n",
    "        font = cv2.FONT_HERSHEY_SIMPLEX\n",
    "        strXY =str(x) + ',' + str(y)\n",
    "        #All the imgR replace as ims\n",
    "        cv2.putText(imgR, strXY, (x, y),font, 1, (255, 255, 0),2)\n",
    "        cv2.imshow('finalImg', imgR)\n",
    "        [x1, y1] = points[0]\n",
    "        [x2, y2] = points[1]\n",
    "        [x3, y3] = points[2]\n",
    "        [x4, y4] = points[3]\n",
    "        print(points[0])\n",
    "        print(points[1])\n",
    "        print(points[2])\n",
    "        print(points[3])\n",
    "        print('x1 :', x1, ',', 'y1 :', y1)\n",
    "        print('x2 :', x2, ',', 'y2 :', y2)\n",
    "        print('x3 :', x3, ',', 'y3 :', y3)\n",
    "        print('x4 :', x4, ',', 'y4 :', y4)\n",
    "        lengthArc1 = math.sqrt((math.pow((x1 - x2),2) + math.pow((y1 - y2),2)))\n",
    "        print('Pixel ratio:',pixelRatio )\n",
    "        print('Saddle_Height:',(lengthArc1*pixelRatio))\n",
    "        lengthArc2 = math.sqrt((math.pow((x3 - x4), 2) + math.pow((y3 - y4), 2)))\n",
    "        print('Pixel ratio:', pixelRatio)\n",
    "        print('Reach:', (lengthArc2 * pixelRatio))\n",
    "\n",
    "\n",
    "       #print(type(lengthArc.item()))\n",
    "\n",
    "points = []\n",
    "\n",
    "cv2.setMouseCallback('finalImg', mouse_click)\n",
    "\n",
    "\n",
    "\n",
    "\n",
    "cv2.waitKey(0)\n",
    "cv2.destroyAllWindows() \n",
    "\n"
   ]
  },
  {
   "cell_type": "code",
   "execution_count": null,
   "metadata": {},
   "outputs": [],
   "source": []
  }
 ],
 "metadata": {
  "kernelspec": {
   "display_name": "Python 3",
   "language": "python",
   "name": "python3"
  },
  "language_info": {
   "codemirror_mode": {
    "name": "ipython",
    "version": 3
   },
   "file_extension": ".py",
   "mimetype": "text/x-python",
   "name": "python",
   "nbconvert_exporter": "python",
   "pygments_lexer": "ipython3",
   "version": "3.6.8"
  }
 },
 "nbformat": 4,
 "nbformat_minor": 2
}
